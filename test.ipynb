{
 "cells": [
  {
   "cell_type": "code",
   "execution_count": 1,
   "metadata": {},
   "outputs": [],
   "source": [
    "import numpy as np\n",
    "import pandas as pd\n",
    "from sklearn.preprocessing import OneHotEncoder\n",
    "from sklearn.preprocessing import RobustScaler\n",
    "from sklearn.model_selection import train_test_split"
   ]
  },
  {
   "cell_type": "code",
   "execution_count": 2,
   "metadata": {},
   "outputs": [],
   "source": [
    "def times_to_delta_sec(row):\n",
    "    purchase_sec = pd.to_datetime(row.purchase_time, format='%Y-%m-%d %H:%M:%S')\n",
    "    signup_sec = pd.to_datetime(row.signup_time, format='%Y-%m-%d %H:%M:%S')\n",
    "    \n",
    "    return (purchase_sec - signup_sec).seconds"
   ]
  },
  {
   "cell_type": "code",
   "execution_count": 3,
   "metadata": {},
   "outputs": [],
   "source": [
    "dataset=pd.read_csv(\"data/Fraud_Data.csv\")\n",
    "new=pd.read_csv(\"data/Fraud_Data.csv\")\n",
    "\n",
    "X = new.drop(columns=['class'])\n",
    "y = new['class']\n",
    "\n",
    "X_train, X_test, y_train, y_test = train_test_split(X, y, test_size=0.2, random_state=15)"
   ]
  },
  {
   "cell_type": "code",
   "execution_count": 4,
   "metadata": {},
   "outputs": [
    {
     "name": "stdout",
     "output_type": "stream",
     "text": [
      "Time delta..."
     ]
    }
   ],
   "source": [
    "print(\"Time delta...\", end=\"\")\n",
    "dataset['time_delta_sec'] = dataset.apply(times_to_delta_sec, axis=1)\n",
    "X_train['time_delta_sec'] = X_train.apply(times_to_delta_sec, axis=1)\n",
    "print(\"DONE.\")"
   ]
  },
  {
   "cell_type": "code",
   "execution_count": null,
   "metadata": {},
   "outputs": [],
   "source": []
  },
  {
   "cell_type": "code",
   "execution_count": null,
   "metadata": {},
   "outputs": [],
   "source": []
  }
 ],
 "metadata": {
  "kernelspec": {
   "display_name": "venv",
   "language": "python",
   "name": "python3"
  },
  "language_info": {
   "codemirror_mode": {
    "name": "ipython",
    "version": 3
   },
   "file_extension": ".py",
   "mimetype": "text/x-python",
   "name": "python",
   "nbconvert_exporter": "python",
   "pygments_lexer": "ipython3",
   "version": "3.11.3"
  }
 },
 "nbformat": 4,
 "nbformat_minor": 2
}
